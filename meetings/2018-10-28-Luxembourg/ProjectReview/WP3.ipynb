{
 "cells": [
  {
   "cell_type": "markdown",
   "metadata": {
    "slideshow": {
     "slide_type": "slide"
    }
   },
   "source": [
    "# WP3: Component architecture\n",
    "\n",
    "by Luca De Feo  \n",
    "Project review – 2nd reporting period"
   ]
  },
  {
   "cell_type": "markdown",
   "metadata": {
    "slideshow": {
     "slide_type": "slide"
    }
   },
   "source": [
    "## Architecture of our VREs\n",
    "\n",
    "```\n",
    "   User Interfaces / Collaborative workspaces\n",
    "        (Jupyter, CoCalc, Simulagora)\n",
    "                       ↓\n",
    "————————————————————————————————————————————————————\n",
    "                    Kernels\n",
    "(Python, GAP, MMT, PARI/GP, SageMath, Singular, ...)\n",
    "       ↓                          ↓\n",
    "Modules, Libraries            Database\n",
    "(LinBox, MPIR, ...)     (LMFDB, MathHub, ....)\n",
    "————————————————————————————————————————————————————\n",
    "```"
   ]
  },
  {
   "cell_type": "markdown",
   "metadata": {
    "slideshow": {
     "slide_type": "slide"
    }
   },
   "source": [
    "## Components should be\n",
    "\n",
    "- **Flexible.** Enable components to be *flexibly combined*;\n",
    "- **Portable.** Enable components *run smoothly* across a wide range\n",
    "  of environments (e.g., cloud, local, server, ...);\n",
    "- **Modular.** Develop, demonstrate, standardize APIs;\n",
    "- **Open.** Streamline user/developer workflows.\n"
   ]
  },
  {
   "cell_type": "markdown",
   "metadata": {
    "slideshow": {
     "slide_type": "slide"
    }
   },
   "source": [
    "## Use Cases\n",
    "\n",
    "\n",
    "> \"Adrian is a student in Applied Algebra. For his Cryptography course, he programs elliptic curve cryptography in SageMath on his Windows laptop.\"\n",
    "\n",
    "*SageMath*'s elliptic curves **module** calls C functions in the *PARI/GP* **library** via the *CyPari* Python bindings."
   ]
  },
  {
   "cell_type": "markdown",
   "metadata": {
    "slideshow": {
     "slide_type": "subslide"
    }
   },
   "source": [
    "> Betty is a GAP user. She wants import data on modular forms from LMFDB and compute modular symbols.\n",
    "\n",
    "*GAP* connects to the *LMFDB* **database** via *SCSCP*, downloads data, then computes modular symbols."
   ]
  },
  {
   "cell_type": "markdown",
   "metadata": {
    "slideshow": {
     "slide_type": "subslide"
    }
   },
   "source": [
    "> Charlie only has GAP installed, but can access a remote server which provides Singular. He does not know how to use Singular, but he knows it is the best tool for Gröbner bases.\n",
    "\n",
    "He connects to *Singular* via the *MMT mediator*, sends the computation to the server, recovers the results in his local *GAP*."
   ]
  },
  {
   "cell_type": "markdown",
   "metadata": {
    "slideshow": {
     "slide_type": "subslide"
    }
   },
   "source": [
    "> Dan is the sysadmin at his Mathematics department. He needs to deploy a server for teaching PARI/GP and SageMath to ~100 students enrolled in the Bachelor program.\n",
    "\n",
    "He uses Docker Compose to configure a *JupyterHub* deployment on the department server, based on *OpenDreamKit's* Docker **images**."
   ]
  },
  {
   "cell_type": "markdown",
   "metadata": {
    "slideshow": {
     "slide_type": "subslide"
    }
   },
   "source": [
    "> Élise is an engineer at CNRS, she wants to set-up a Jupyter service on her national infrastructure for doing computations on a HPC cluster.\n",
    "\n",
    "She uses Kubernetes to deploy a *JupyterHub* service based on *OpenDreamKit's* Docker **images**."
   ]
  },
  {
   "cell_type": "markdown",
   "metadata": {
    "slideshow": {
     "slide_type": "slide"
    }
   },
   "source": [
    "## WP3 Inputs/Outputs\n",
    "\n",
    "### Inputs\n",
    "\n",
    "- **WP4 →** User interface components;\n",
    "- **WP5 →** HPC-enabled components;\n",
    "- **WP6 →** Interface languages, ontologies;\n",
    "\n",
    "### Outputs\n",
    "\n",
    "- Network protocol implementations **→ WP4, WP6**;\n",
    "- Ready to install packages/images **→ WP4, WP5**."
   ]
  },
  {
   "cell_type": "markdown",
   "metadata": {
    "slideshow": {
     "slide_type": "slide"
    }
   },
   "source": [
    "## What did we focus on during RP2?\n",
    "\n",
    "1. User workflows (D3.5)\n",
    "2. Continuous testing/integration (D3.8)\n",
    "3. Packaging / Deployments (D3.7, D3.10)"
   ]
  },
  {
   "cell_type": "markdown",
   "metadata": {
    "slideshow": {
     "slide_type": "slide"
    }
   },
   "source": [
    "### 1. User workflows\n",
    "\n",
    "> **Aim 3:** Identify and promote best practices in computational mathematical research including:\n",
    "making results easily reproducible; producing reusable and easily accessible software;\n",
    "sharing data in a semantically sound way; exploiting and supporting the growing ecosystem\n",
    "of computational tools.\n",
    "\n",
    "**Our goal:** lower the entry barrier to contribute code, documentation, ..."
   ]
  },
  {
   "cell_type": "markdown",
   "metadata": {
    "slideshow": {
     "slide_type": "subslide"
    }
   },
   "source": [
    "**Actions (D3.5):**\n",
    "\n",
    "- Modernize SageMath development tools to allow interactions with popular platforms (GitHub, GitLab)\n",
    "- Make it easy to propose fixes to SageMath's documentation, with little programming/tooling knowledge needed"
   ]
  },
  {
   "cell_type": "markdown",
   "metadata": {
    "slideshow": {
     "slide_type": "slide"
    }
   },
   "source": [
    "### 2. Continuous testing/integration\n",
    "\n",
    "> **Continuous testing** is the process of executing automated tests as part of the software delivery pipeline to obtain immediate feedback on the business risks associated with a software release candidate."
   ]
  },
  {
   "cell_type": "markdown",
   "metadata": {
    "slideshow": {
     "slide_type": "subslide"
    }
   },
   "source": [
    "> **Aim 3:** Identify and promote best practices in computational mathematical research including:\n",
    "making results easily reproducible; producing reusable and easily accessible software;\n",
    "sharing data in a semantically sound way; exploiting and supporting the growing ecosystem\n",
    "of computational tools.\n",
    "\n",
    "> **Aim 4:** Maximise sustainability and impact in mathematics, neighbouring fields, and scientific computing."
   ]
  },
  {
   "cell_type": "markdown",
   "metadata": {
    "slideshow": {
     "slide_type": "subslide"
    }
   },
   "source": [
    "**Actions (D3.8):** Modernize our CI infrastructure, relying on popular software/services (e.g., Travis, Codecov, Docker, Circle CI, GitLab)\n",
    "\n",
    "**Highlights:**\n",
    "\n",
    "- For **SageMath**, Docker-based CI on GitLab, instantaneous code review in Binder.\n",
    "- For **GAP**, Docker-based CI on Travis, gamified coverage tests on Codecov, tools to assist package developers."
   ]
  },
  {
   "cell_type": "markdown",
   "metadata": {
    "slideshow": {
     "slide_type": "subslide"
    }
   },
   "source": [
    "### GAP metrics dashboard\n",
    "\n",
    "Excerpt from: <https://github.com/gap-system/gap-distribution>\n",
    "\n",
    "#### Core GAP system tests\n",
    "\n",
    "| for branch | status | code coverage |\n",
    "|------------|--------|---------------|\n",
    "| `master`   | [![Build Status](https://travis-ci.org/gap-system/gap.svg?branch=master)](https://travis-ci.org/gap-system/gap) | [![Code Coverage](https://codecov.io/github/gap-system/gap/coverage.svg?branch=master&token=)](https://codecov.io/gh/gap-system/gap) |\n",
    "| `stable-4.10` | [![Build Status](https://travis-ci.org/gap-system/gap.svg?branch=stable-4.10)](https://travis-ci.org/gap-system/gap) | [![Code Coverage](https://codecov.io/github/gap-system/gap/coverage.svg?branch=stable-4.10&token=)](https://codecov.io/gh/gap-system/gap) |\n",
    "| `stable-4.9`  | [![Build Status](https://travis-ci.org/gap-system/gap.svg?branch=stable-4.9)](https://travis-ci.org/gap-system/gap) | [![Code Coverage](https://codecov.io/github/gap-system/gap/coverage.svg?branch=stable-4.9&token=)](https://codecov.io/gh/gap-system/gap) |"
   ]
  },
  {
   "cell_type": "markdown",
   "metadata": {
    "slideshow": {
     "slide_type": "subslide"
    }
   },
   "source": [
    "GAP package release statistics\n",
    "![](gap.png)"
   ]
  },
  {
   "cell_type": "markdown",
   "metadata": {
    "slideshow": {
     "slide_type": "slide"
    }
   },
   "source": [
    "### 3. Packaging / Deployments\n",
    "\n",
    "> **Aim 2:** Make it easy for teams of researchers of any size to set up custom, collaborative Virtual\n",
    "Research Environments tailored to their specific needs, resources and workflows. The VRE\n",
    "should support the entire life-cycle of computational work in mathematical research, from\n",
    "initial exploration to publication, teaching and outreach."
   ]
  },
  {
   "cell_type": "markdown",
   "metadata": {
    "slideshow": {
     "slide_type": "subslide"
    }
   },
   "source": [
    "**Actions:**\n",
    "\n",
    "- Rewritten GAP build system.\n",
    "- Rewritten and officially supported libGAP (in GAP 4.10).\n",
    "- Docker images (D3.1), tutorials / blog posts on Docker-based deployments\n",
    "- SageMath on Windows installer (D3.7)\n",
    "\n",
    "**Future / in progress actions:**\n",
    "\n",
    "- Packaging for major Linux distributions (D3.10)\n",
    "- HPC-enabled SageMath distribution (D3.11)"
   ]
  },
  {
   "cell_type": "markdown",
   "metadata": {
    "slideshow": {
     "slide_type": "subslide"
    }
   },
   "source": [
    "### SageMath on Windows (since v8.0, July 2017)\n",
    "\n",
    "![](sage-downloads.png)"
   ]
  },
  {
   "cell_type": "markdown",
   "metadata": {
    "slideshow": {
     "slide_type": "subslide"
    }
   },
   "source": [
    "### Deploying VREs\n",
    "\n",
    "- Deploying medium-sized JupyterHub instances (blog post: <https://opendreamkit.org/2018/10/17/jupyterhub-docker/>)\n",
    "  \n",
    "  - Workload: 1 person, ~20 hours of work\n",
    "  - 244 lines of configuration\n",
    "  \n",
    "  **Compare to** SageMath notebook server (deprecated): no pluggable authentication, no containerization, no network isolation, security issues, co"
   ]
  },
  {
   "cell_type": "markdown",
   "metadata": {
    "slideshow": {
     "slide_type": "subslide"
    }
   },
   "source": [
    "- Deploying JupyterHub on OpenStack clusters (blog post: <https://blog.jupyter.org/how-to-deploy-jupyterhub-with-kubernetes-on-openstack-f8f6120d4b1>)\n",
    "\n",
    "- Binder compatible Docker images, see <https://opendreamkit.org/try>.\n",
    "\n",
    "- CoCalc offers deployments based on similar technologies, we constantly keep contact and cross-pollinate."
   ]
  },
  {
   "cell_type": "markdown",
   "metadata": {
    "slideshow": {
     "slide_type": "slide"
    }
   },
   "source": [
    "## Linux distributions\n",
    "\n",
    "> **Milestone 5:** “ODK’s computational components available on major platforms” (month 42). \n",
    ">\n",
    "> *User story:* users shall be able to easily install ODK’s computational components on the three major\n",
    "> platforms (Windows, Mac, Linux) via their standard distribution channels.\n",
    "\n",
    "- Packages available for all components on Debian, Ubuntu, Fedora, Arch, Gentoo, ...\n",
    "- Experimental Conda Forge packages"
   ]
  },
  {
   "cell_type": "code",
   "execution_count": 4,
   "metadata": {
    "slideshow": {
     "slide_type": "skip"
    }
   },
   "outputs": [],
   "source": [
    "import requests, json, io\n",
    "from PIL import Image\n",
    "from matplotlib import pyplot as plt\n",
    "import matplotlib.ticker as mtick"
   ]
  },
  {
   "cell_type": "markdown",
   "metadata": {
    "slideshow": {
     "slide_type": "subslide"
    }
   },
   "source": [
    "### Arch\n",
    "\n",
    "Based upon voluntary reports from ~30k users"
   ]
  },
  {
   "cell_type": "code",
   "execution_count": 8,
   "metadata": {
    "slideshow": {
     "slide_type": "skip"
    }
   },
   "outputs": [],
   "source": [
    "arch_url = 'https://pkgstats.archlinux.de/package/datatables?draw=9&columns[0][data]=pkgname&columns[0][name]=&columns[0][searchable]=true&columns[0][orderable]=false&columns[0][search][value]=&columns[0][search][regex]=false&columns[1][data]=count&columns[1][name]=&columns[1][searchable]=false&columns[1][orderable]=true&columns[1][search][value]=&columns[1][search][regex]=false&order[0][column]=1&order[0][dir]=desc&start=0&length=25&search[value]=%s&search[regex]=false&_=1540794499985'\n",
    "systems = ['scilab-bin', 'sagemath', 'singular', 'gap', 'pari', 'jupyter', 'chromium', 'firefox']\n",
    "stats = { s: requests.get(arch_url % s).json() for s in systems }"
   ]
  },
  {
   "cell_type": "code",
   "execution_count": 9,
   "metadata": {
    "slideshow": {
     "slide_type": "fragment"
    }
   },
   "outputs": [
    {
     "data": {
      "text/plain": [
       "<BarContainer object of 8 artists>"
      ]
     },
     "execution_count": 9,
     "metadata": {},
     "output_type": "execute_result"
    },
    {
     "data": {
      "image/png": "[encoded data removed]",
      "text/plain": [
       "<Figure size 720x360 with 1 Axes>"
      ]
     },
     "metadata": {
      "needs_background": "light"
     },
     "output_type": "display_data"
    }
   ],
   "source": [
    "fig = plt.figure(1, (10,5)); ax = fig.add_subplot(1,1,1); ax.yaxis.set_major_formatter(mtick.PercentFormatter())\n",
    "ax.bar(systems, [float(d['count']) / stats[s]['recordsTotal'] * 100 for s in systems for d in stats[s]['data'] if d['pkgname'] == s ])"
   ]
  },
  {
   "cell_type": "markdown",
   "metadata": {
    "slideshow": {
     "slide_type": "subslide"
    }
   },
   "source": [
    "### Debian\n",
    "\n",
    "Based on ~200K voluntary submissions"
   ]
  },
  {
   "cell_type": "code",
   "execution_count": 146,
   "metadata": {
    "slideshow": {
     "slide_type": "skip"
    }
   },
   "outputs": [],
   "source": [
    "deb_url = 'https://qa.debian.org/cgi-bin/popcon-png?packages=%s&show_installed=on&want_legend=on&date_fmt=%%Y&beenhere=1'\n",
    "a = requests.get(deb_url % 'ipython scilab pari gap singular sagemath')"
   ]
  },
  {
   "cell_type": "code",
   "execution_count": 147,
   "metadata": {
    "slideshow": {
     "slide_type": "subslide"
    }
   },
   "outputs": [
    {
     "data": {
      "image/png": "[encoded data removed]",
      "text/plain": [
       "<PIL.PngImagePlugin.PngImageFile image mode=P size=800x600 at 0x7F4CA7E70C88>"
      ]
     },
     "execution_count": 147,
     "metadata": {},
     "output_type": "execute_result"
    }
   ],
   "source": [
    "Image.open(io.BytesIO(a.content))"
   ]
  },
  {
   "cell_type": "markdown",
   "metadata": {
    "slideshow": {
     "slide_type": "subslide"
    }
   },
   "source": [
    "**Ubuntu**, based on ~2.8M voluntary submissions"
   ]
  },
  {
   "cell_type": "code",
   "execution_count": 12,
   "metadata": {
    "slideshow": {
     "slide_type": "fragment"
    }
   },
   "outputs": [
    {
     "data": {
      "text/plain": [
       "<BarContainer object of 6 artists>"
      ]
     },
     "execution_count": 12,
     "metadata": {},
     "output_type": "execute_result"
    },
    {
     "data": {
      "image/png": "[encoded data removed]",
      "text/plain": [
       "<Figure size 720x360 with 1 Axes>"
      ]
     },
     "metadata": {
      "needs_background": "light"
     },
     "output_type": "display_data"
    }
   ],
   "source": [
    "ubuntu = { 'jupyter': 66917, 'scilab': 31386, 'pari-gp': 4568, 'gap': 6532, 'singular': 1960, 'sagemath': 1126 }\n",
    "fig = plt.figure(1, (10,5)); ax = fig.add_subplot(1,1,1); ax.yaxis.set_major_formatter(mtick.PercentFormatter())\n",
    "ax.bar(ubuntu.keys(), [v / 28000 for v in ubuntu.values()])"
   ]
  },
  {
   "cell_type": "markdown",
   "metadata": {
    "slideshow": {
     "slide_type": "subslide"
    }
   },
   "source": [
    "### Docker hub\n",
    "\n",
    "<https://hub.docker.com/r/sagemath/> and <https://hub.docker.com/u/gapsystem/>\n",
    "\n",
    "- 10k pulls for `sagemath-jupyter`\n",
    "- 5.7k pulls for `sagemath`\n",
    "- 3.8K pulls for `gap-docker`\n",
    "\n",
    "Compare with <https://hub.docker.com/r/jupyter/>, which states 1M+ pulls for `scipy-notebook`.\n"
   ]
  },
  {
   "cell_type": "markdown",
   "metadata": {
    "slideshow": {
     "slide_type": "slide"
    }
   },
   "source": [
    "## The future\n",
    "\n",
    "### Packaging (D3.10)\n",
    "\n",
    "- Consolidate available packages, work on inter-compatibility.\n",
    "- Make packages for Conda.\n",
    "- Move SageMath to Python 3.\n",
    "- Improve workflows for user code sharing."
   ]
  },
  {
   "cell_type": "markdown",
   "metadata": {
    "slideshow": {
     "slide_type": "subslide"
    }
   },
   "source": [
    "### Conda packages\n",
    "\n",
    "From Conda Forge:\n",
    "\n",
    "- Jupyter 380K downloads: <https://anaconda.org/conda-forge/jupyter>\n",
    "- Sage 6K downloads: <https://anaconda.org/conda-forge/sage>\n",
    "\n",
    "### Sage on PyPI\n",
    "\n",
    "- 80 packages in PyPI, not all Sage-related.\n",
    "- Make them easily discoverable, document workflows."
   ]
  },
  {
   "cell_type": "markdown",
   "metadata": {
    "slideshow": {
     "slide_type": "slide"
    }
   },
   "source": [
    "## Aims\n",
    "\n",
    "> **Aim 1:** Improve the productivity of researchers ...\n",
    "\n",
    "> **Aim 2:** Make it easy for teams of researchers of any size to set up custom, collaborative Virtual\n",
    "Research Environments ...\n",
    "\n",
    "> **Aim 3:** Identify and promote best practices ...\n",
    "\n",
    "> **Aim 4:** Maximise sustainability and impact ..."
   ]
  },
  {
   "cell_type": "markdown",
   "metadata": {
    "slideshow": {
     "slide_type": "subslide"
    }
   },
   "source": [
    "## KPIs\n",
    "\n",
    "- GAP packages **code coverage**: 69% (4.9) → 75% (4.10).\n",
    "- **Freshness** of GAP packages: 50% released in the last year.\n",
    "- SageMath on **Windows**: 44% (happy) Windows users.\n",
    "- Packaging (not counting alt. methods, such as Conda):\n",
    "  - **Arch:** 50% of Jupyter users are also ODK users;\n",
    "  - **Debian:** 10% of Jupyter users are also ODK users.\n",
    "- Medium sized VRE **deployments**: 20h of work, 244 LOCs.\n",
    "- Docker Hub: 4K-10K pulls of ODK images."
   ]
  },
  {
   "cell_type": "markdown",
   "metadata": {
    "slideshow": {
     "slide_type": "subslide"
    }
   },
   "source": [
    "## Lessons learned\n",
    "\n",
    "- Well defined **components** allows us to better **work together**.\n",
    "- When you extract a component from a pre-existing project, and make it available separately, **new usage patterns appear** (see CyPari, libGAP, Docker images, ...)\n",
    "- Technologies change fast (see Docker, Conda, Binder), new possibilities appear. We need to constantly **keep updating** our components **to not fall behind**."
   ]
  }
 ],
 "metadata": {
  "celltoolbar": "Slideshow",
  "kernelspec": {
   "display_name": "Python 3",
   "language": "python",
   "name": "python3"
  },
  "language_info": {
   "codemirror_mode": {
    "name": "ipython",
    "version": 3
   },
   "file_extension": ".py",
   "mimetype": "text/x-python",
   "name": "python",
   "nbconvert_exporter": "python",
   "pygments_lexer": "ipython3",
   "version": "3.7.0"
  },
  "rise": {
   "autolaunch": true
  }
 },
 "nbformat": 4,
 "nbformat_minor": 2
}
