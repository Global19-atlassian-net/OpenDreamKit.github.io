{
 "cells": [
  {
   "cell_type": "markdown",
   "metadata": {},
   "source": [
    "# Pickling"
   ]
  },
  {
   "cell_type": "code",
   "execution_count": 16,
   "metadata": {
    "collapsed": false
   },
   "outputs": [
    {
     "data": {
      "text/plain": [
       "[3, 1, 2]"
      ]
     },
     "execution_count": 16,
     "metadata": {},
     "output_type": "execute_result"
    }
   ],
   "source": [
    "p = Permutation([3,1,2]); p"
   ]
  },
  {
   "cell_type": "code",
   "execution_count": 18,
   "metadata": {
    "collapsed": false
   },
   "outputs": [
    {
     "data": {
      "text/plain": [
       "'x\\x9c}P\\xcbN\\xc30\\x10\\x14\\x8f\\x96\\xe2R\\xdeo\\xf8\\x80\\xf6\\x12\\x89\\xc7/p\\xe0\\x12\\xa1T9\"\\xcbu\\x96\\xc6\"v\\xba\\xf6Z\\xd0C%8\\xd0\\xfe6\\x0e)\\x8f\"\\xc1e5\\xb3\\xd2\\xcc\\xce\\xec\\xcb\\xb2tb\\x08\\x91#\\xeb%y\\x0bQ66B+\\xc9e!\\x9cc\\x8b\\x0c\\x97\\xba\\xe9u\\x9f\\x84\\xc9\\x84\\xcd\\xee\\xc0jO\\x82Ti\\x1c\\x17E\\xc1\\x9f\\x14\\xe5\\\\\\n\\x82ai\\xc7\\x11\\x14\\xa0\\xc1P\\xad\\xc4\\xf9\\x19Y\\xea\\x812\\x82\\xa2\\xd1\\xb7\\x98\\xfd0b\\xb8\"9\\x1fxU\\x902\\x9c\\xb3!\\x84=Y\\x86\\xab\\xb5^+\\'?\\x06\\x93\\xd5E\\r\\x94\\x97\\x19\\xc3\\xc6\\xef\\x12\\xde(\\xf4\\xc0-\\x8c,\\xb8\\x90\\xa26\\xf7\\xc6B\\xe6%0l\\xce\\xe3\\xd4a\\x15\\xb8\\x08\\x8c\\xd7`\\x03\\xcf\\xb8\\x03r\\xec\\xe6\\x8b\\xf7+\\x8ak\\xbd\\xc9\\x0c[\\t\\xae\\xa7\\xed\\xba\\xa8xV\\xa5F\\x96\\xb6n\\xcd\\x832\\x8a\\x00\\xdb\\xb3\\x047\\xd2\\xceb\\xf1\\xce4\\xc1\\xcd)n\\xc5qL\\tn\\xf7^q\\'o\\xfe\\xf3\\x8c\\xbf\\xbe\\xcbp\\xb7J\\xb0\\x97\\xe0\\xfe\\x04\\x0f\\xbai\\x83\\xe7\\xc2\\xe5x\\x18\\x07T(Gxt\\x8f\\xc7\\xdd\\xda\\xd8*3t\\x912\\xa1\\x1cX\\xa6\\xc5#\\xf0O\\x82\\'\\xe9\\xd2\\xd5[\\x82\\xa7y\\x00\\x17\\x01\\x9cU\\xe02\\x80s\\xf0\\xd3A\\xf4\\x0eY\\xbd\\xc0B'"
      ]
     },
     "execution_count": 18,
     "metadata": {},
     "output_type": "execute_result"
    }
   ],
   "source": [
    "s = dumps(p); s"
   ]
  },
  {
   "cell_type": "code",
   "execution_count": 20,
   "metadata": {
    "collapsed": false
   },
   "outputs": [
    {
     "data": {
      "text/plain": [
       "pg_dynamic_class = unpickle_global('sage.structure.dynamic_class', 'dynamic_class')\n",
       "pg_Permutation = unpickle_global('sage.combinat.permutation', 'Permutation')\n",
       "pg_getattr = unpickle_global('__builtin__', 'getattr')\n",
       "pg_call_method = unpickle_global('sage.misc.misc', 'call_method')\n",
       "pg_unreduce = unpickle_global('sage.structure.unique_representation', 'unreduce')\n",
       "pg_EnumeratedSets = unpickle_global('sage.categories.enumerated_sets', 'EnumeratedSets')\n",
       "si = unpickle_newobj(pg_dynamic_class('StandardPermutations_all_with_category.element_class', (pg_Permutation, pg_getattr(pg_call_method(pg_unreduce(pg_EnumeratedSets, (), {}), '_with_axiom', 'Infinite'), 'element_class')), None, None, None), ())\n",
       "pg_StandardPermutations_all = unpickle_global('sage.combinat.permutation', 'StandardPermutations_all')\n",
       "pg_make_integer = unpickle_global('sage.rings.integer', 'make_integer')\n",
       "unpickle_build(si, (pg_unreduce(pg_StandardPermutations_all, (), {}), {'_hash':None, '_list':[pg_make_integer('3'), pg_make_integer('1'), pg_make_integer('2')]}))\n",
       "si"
      ]
     },
     "execution_count": 20,
     "metadata": {},
     "output_type": "execute_result"
    }
   ],
   "source": [
    "explain_pickle(s)"
   ]
  },
  {
   "cell_type": "markdown",
   "metadata": {},
   "source": [
    "# Categories in Sage (=Theories)"
   ]
  },
  {
   "cell_type": "code",
   "execution_count": 86,
   "metadata": {
    "collapsed": false
   },
   "outputs": [
    {
     "data": {
      "text/plain": [
       "Symmetric group of order 3! as a permutation group"
      ]
     },
     "execution_count": 86,
     "metadata": {},
     "output_type": "execute_result"
    }
   ],
   "source": [
    "S = SymmetricGroup(3); S"
   ]
  },
  {
   "cell_type": "code",
   "execution_count": 87,
   "metadata": {
    "collapsed": false
   },
   "outputs": [
    {
     "data": {
      "text/plain": [
       "(1,2,3)"
      ]
     },
     "execution_count": 87,
     "metadata": {},
     "output_type": "execute_result"
    }
   ],
   "source": [
    "s = S.an_element(); s"
   ]
  },
  {
   "cell_type": "code",
   "execution_count": 89,
   "metadata": {
    "collapsed": false
   },
   "outputs": [
    {
     "data": {
      "text/plain": [
       "<class 'sage.groups.perm_gps.permgroup_named.SymmetricGroup_with_category'>"
      ]
     },
     "execution_count": 89,
     "metadata": {},
     "output_type": "execute_result"
    }
   ],
   "source": [
    "S.__class__"
   ]
  },
  {
   "cell_type": "code",
   "execution_count": 90,
   "metadata": {
    "collapsed": false
   },
   "outputs": [
    {
     "data": {
      "text/plain": [
       "<type 'sage.groups.perm_gps.permgroup_element.PermutationGroupElement'>"
      ]
     },
     "execution_count": 90,
     "metadata": {},
     "output_type": "execute_result"
    }
   ],
   "source": [
    "s.__class__"
   ]
  },
  {
   "cell_type": "code",
   "execution_count": 84,
   "metadata": {
    "collapsed": false
   },
   "outputs": [
    {
     "data": {
      "text/plain": [
       "[<class 'sage.groups.perm_gps.permgroup_named.SymmetricGroup_with_category'>,\n",
       " <class 'sage.groups.perm_gps.permgroup_named.SymmetricGroup'>,\n",
       " <class 'sage.groups.perm_gps.permgroup_named.PermutationGroup_symalt'>,\n",
       " <class 'sage.groups.perm_gps.permgroup_named.PermutationGroup_unique'>,\n",
       " <class 'sage.structure.unique_representation.CachedRepresentation'>,\n",
       " <class 'sage.groups.perm_gps.permgroup.PermutationGroup_generic'>,\n",
       " <type 'sage.groups.old.FiniteGroup'>,\n",
       " <type 'sage.groups.old.Group'>,\n",
       " <type 'sage.structure.parent_gens.ParentWithGens'>,\n",
       " <type 'sage.structure.parent_base.ParentWithBase'>,\n",
       " <type 'sage.structure.parent_old.Parent'>,\n",
       " <type 'sage.structure.parent.Parent'>,\n",
       " <type 'sage.structure.category_object.CategoryObject'>,\n",
       " <type 'sage.structure.sage_object.SageObject'>,\n",
       " <class 'sage.categories.category.JoinCategory.parent_class'>,\n",
       " <class 'sage.categories.finite_permutation_groups.FinitePermutationGroups.parent_class'>,\n",
       " <class 'sage.categories.permutation_groups.PermutationGroups.parent_class'>,\n",
       " <class 'sage.categories.finite_weyl_groups.FiniteWeylGroups.parent_class'>,\n",
       " <class 'sage.categories.finite_coxeter_groups.FiniteCoxeterGroups.parent_class'>,\n",
       " <class 'sage.categories.weyl_groups.WeylGroups.parent_class'>,\n",
       " <class 'sage.categories.coxeter_groups.CoxeterGroups.parent_class'>,\n",
       " <class 'sage.categories.finite_groups.FiniteGroups.parent_class'>,\n",
       " <class 'sage.categories.finite_monoids.FiniteMonoids.parent_class'>,\n",
       " <class 'sage.categories.groups.Groups.parent_class'>,\n",
       " <class 'sage.categories.monoids.Monoids.parent_class'>,\n",
       " <class 'sage.categories.finitely_generated_semigroups.FinitelyGeneratedSemigroups.Finite.parent_class'>,\n",
       " <class 'sage.categories.finitely_generated_semigroups.FinitelyGeneratedSemigroups.parent_class'>,\n",
       " <class 'sage.categories.finite_semigroups.FiniteSemigroups.parent_class'>,\n",
       " <class 'sage.categories.semigroups.Semigroups.parent_class'>,\n",
       " <class 'sage.categories.finitely_generated_magmas.FinitelyGeneratedMagmas.parent_class'>,\n",
       " <class 'sage.categories.magmas.Magmas.Unital.Inverse.parent_class'>,\n",
       " <class 'sage.categories.magmas.Magmas.Unital.parent_class'>,\n",
       " <class 'sage.categories.magmas.Magmas.parent_class'>,\n",
       " <class 'sage.categories.finite_enumerated_sets.FiniteEnumeratedSets.parent_class'>,\n",
       " <class 'sage.categories.enumerated_sets.EnumeratedSets.parent_class'>,\n",
       " <class 'sage.categories.finite_sets.FiniteSets.parent_class'>,\n",
       " <class 'sage.categories.sets_cat.Sets.parent_class'>,\n",
       " <class 'sage.categories.sets_with_partial_maps.SetsWithPartialMaps.parent_class'>,\n",
       " <class 'sage.categories.objects.Objects.parent_class'>,\n",
       " <type 'object'>]"
      ]
     },
     "execution_count": 84,
     "metadata": {},
     "output_type": "execute_result"
    }
   ],
   "source": [
    "S.__class__.mro()"
   ]
  },
  {
   "cell_type": "code",
   "execution_count": 94,
   "metadata": {
    "collapsed": false
   },
   "outputs": [
    {
     "data": {
      "text/plain": [
       "[<type 'sage.groups.perm_gps.permgroup_element.PermutationGroupElement'>,\n",
       " <type 'sage.structure.element.MultiplicativeGroupElement'>,\n",
       " <type 'sage.structure.element.MonoidElement'>,\n",
       " <type 'sage.structure.element.Element'>,\n",
       " <type 'sage.structure.sage_object.SageObject'>,\n",
       " <type 'object'>]"
      ]
     },
     "execution_count": 94,
     "metadata": {},
     "output_type": "execute_result"
    }
   ],
   "source": [
    "s.__class__.mro()"
   ]
  },
  {
   "cell_type": "code",
   "execution_count": 92,
   "metadata": {
    "collapsed": false
   },
   "outputs": [
    {
     "data": {
      "text/plain": [
       "2"
      ]
     },
     "execution_count": 92,
     "metadata": {},
     "output_type": "execute_result"
    }
   ],
   "source": [
    "s.length()"
   ]
  },
  {
   "cell_type": "code",
   "execution_count": 93,
   "metadata": {
    "collapsed": false
   },
   "outputs": [
    {
     "data": {
      "text/plain": [
       "'sage.categories.coxeter_groups'"
      ]
     },
     "execution_count": 93,
     "metadata": {},
     "output_type": "execute_result"
    }
   ],
   "source": [
    "s.length.__module__"
   ]
  },
  {
   "cell_type": "code",
   "execution_count": 76,
   "metadata": {
    "collapsed": false
   },
   "outputs": [
    {
     "data": {
      "text/plain": [
       "Join of Category of finite permutation groups and Category of finite weyl groups"
      ]
     },
     "execution_count": 76,
     "metadata": {},
     "output_type": "execute_result"
    }
   ],
   "source": [
    "S.category()"
   ]
  },
  {
   "cell_type": "code",
   "execution_count": 27,
   "metadata": {
    "collapsed": true
   },
   "outputs": [],
   "source": [
    "C = Rings()"
   ]
  },
  {
   "cell_type": "code",
   "execution_count": 28,
   "metadata": {
    "collapsed": false
   },
   "outputs": [
    {
     "data": {
      "text/plain": [
       "frozenset({'AdditiveAssociative',\n",
       "           'AdditiveCommutative',\n",
       "           'AdditiveInverse',\n",
       "           'AdditiveUnital',\n",
       "           'Associative',\n",
       "           'Distributive',\n",
       "           'Unital'})"
      ]
     },
     "execution_count": 28,
     "metadata": {},
     "output_type": "execute_result"
    }
   ],
   "source": [
    "C.axioms()"
   ]
  },
  {
   "cell_type": "code",
   "execution_count": 2,
   "metadata": {
    "collapsed": true
   },
   "outputs": [],
   "source": [
    "g = C.category_graph()"
   ]
  },
  {
   "cell_type": "code",
   "execution_count": 3,
   "metadata": {
    "collapsed": true
   },
   "outputs": [],
   "source": [
    "g.set_latex_options(format=\"dot2tex\")"
   ]
  },
  {
   "cell_type": "code",
   "execution_count": 5,
   "metadata": {
    "collapsed": false
   },
   "outputs": [],
   "source": [
    "view(g, tightpage=True)"
   ]
  },
  {
   "cell_type": "code",
   "execution_count": 29,
   "metadata": {
    "collapsed": false
   },
   "outputs": [
    {
     "data": {
      "text/plain": [
       "Category of associative unital additive associative additive inverse additive unital distributive magmas and additive magmas"
      ]
     },
     "execution_count": 29,
     "metadata": {},
     "output_type": "execute_result"
    }
   ],
   "source": [
    "(Magmas().Associative().Unital() & \n",
    " AdditiveMagmas().AdditiveAssociative().AdditiveUnital().AdditiveInverse()\n",
    ").Distributive()"
   ]
  },
  {
   "cell_type": "code",
   "execution_count": 30,
   "metadata": {
    "collapsed": false
   },
   "outputs": [
    {
     "data": {
      "text/plain": [
       "Category of rings"
      ]
     },
     "execution_count": 30,
     "metadata": {},
     "output_type": "execute_result"
    }
   ],
   "source": [
    "_.AdditiveCommutative()"
   ]
  },
  {
   "cell_type": "code",
   "execution_count": 31,
   "metadata": {
    "collapsed": false
   },
   "outputs": [
    {
     "data": {
      "text/plain": [
       "Category of finite fields"
      ]
     },
     "execution_count": 31,
     "metadata": {},
     "output_type": "execute_result"
    }
   ],
   "source": [
    "_.Division() & Sets().Finite()"
   ]
  },
  {
   "cell_type": "code",
   "execution_count": null,
   "metadata": {
    "collapsed": true
   },
   "outputs": [],
   "source": [
    "g = sage.categories.category.category_graph()\n",
    "g.set_latex_options(format='dot2tex')\n",
    "view(g, tightpage=True)"
   ]
  },
  {
   "cell_type": "markdown",
   "metadata": {},
   "source": [
    "# Use cases: generic tests"
   ]
  },
  {
   "cell_type": "code",
   "execution_count": 95,
   "metadata": {
    "collapsed": false
   },
   "outputs": [
    {
     "name": "stdout",
     "output_type": "stream",
     "text": [
      "running ._test_an_element() . . . pass\n",
      "running ._test_associativity() . . . pass\n",
      "running ._test_cardinality() . . . pass\n",
      "running ._test_category() . . . pass\n",
      "running ._test_elements() . . .\n",
      "  Running the test suite of self.an_element()\n",
      "  running ._test_category() . . . pass\n",
      "  running ._test_eq() . . . pass\n",
      "  running ._test_not_implemented_methods() . . . pass\n",
      "  running ._test_pickling() . . . pass\n",
      "  pass\n",
      "running ._test_elements_eq_reflexive() . . . pass\n",
      "running ._test_elements_eq_symmetric() . . . pass\n",
      "running ._test_elements_eq_transitive() . . . pass\n",
      "running ._test_elements_neq() . . . pass\n",
      "running ._test_enumerated_set_contains() . . . pass\n",
      "running ._test_enumerated_set_iter_cardinality() . . . pass\n",
      "running ._test_enumerated_set_iter_list() . . . pass\n",
      "running ._test_eq() . . . pass\n",
      "running ._test_has_descent() . . . pass\n",
      "running ._test_inverse() . . . pass\n",
      "running ._test_not_implemented_methods() . . . pass\n",
      "running ._test_one() . . . pass\n",
      "running ._test_pickling() . . . pass\n",
      "running ._test_prod() . . . pass\n",
      "running ._test_reduced_word() . . . pass\n",
      "running ._test_simple_projections() . . . pass\n",
      "running ._test_some_elements() . . . pass\n"
     ]
    }
   ],
   "source": [
    "TestSuite(S).run(verbose=True)"
   ]
  },
  {
   "cell_type": "code",
   "execution_count": 97,
   "metadata": {
    "collapsed": false
   },
   "outputs": [],
   "source": [
    "S._test_associativity??"
   ]
  },
  {
   "cell_type": "code",
   "execution_count": null,
   "metadata": {
    "collapsed": true
   },
   "outputs": [],
   "source": []
  }
 ],
 "metadata": {
  "kernelspec": {
   "display_name": "SageMath 7.0",
   "language": "",
   "name": "sagemath"
  },
  "language_info": {
   "codemirror_mode": {
    "name": "ipython",
    "version": 2
   },
   "file_extension": ".py",
   "mimetype": "text/x-python",
   "name": "python",
   "nbconvert_exporter": "python",
   "pygments_lexer": "ipython2",
   "version": "2.7.10"
  }
 },
 "nbformat": 4,
 "nbformat_minor": 0
}
